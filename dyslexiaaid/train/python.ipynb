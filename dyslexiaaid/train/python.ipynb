{
 "cells": [
  {
   "cell_type": "code",
   "execution_count": 2,
   "id": "8b6169d3",
   "metadata": {},
   "outputs": [],
   "source": [
    "import tensorflow as tf\n",
    "import tensorflow_datasets as tfds\n",
    "\n",
    "# Load the Google Speech Commands dataset\n",
    "ds, ds_info = tfds.load(\"speech_commands\", with_info=True, as_supervised=True)\n",
    "\n",
    "print(ds_info)\n"
   ]
  },
  {
   "cell_type": "code",
   "execution_count": null,
   "id": "ea3f80ce",
   "metadata": {},
   "outputs": [],
   "source": [
    "for audio, label in ds[\"train\"].take(1):\n",
    "    print(\"Audio tensor shape:\", audio.shape)\n",
    "    print(\"Label:\", label.numpy())\n"
   ]
  }
 ],
 "metadata": {
  "kernelspec": {
   "display_name": "Python 3",
   "language": "python",
   "name": "python3"
  },
  "language_info": {
   "codemirror_mode": {
    "name": "ipython",
    "version": 3
   },
   "file_extension": ".py",
   "mimetype": "text/x-python",
   "name": "python",
   "nbconvert_exporter": "python",
   "pygments_lexer": "ipython3",
   "version": "3.12.10"
  }
 },
 "nbformat": 4,
 "nbformat_minor": 5
}
